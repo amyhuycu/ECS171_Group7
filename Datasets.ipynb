{
  "nbformat": 4,
  "nbformat_minor": 0,
  "metadata": {
    "kernelspec": {
      "display_name": "Python 3",
      "language": "python",
      "name": "python3"
    },
    "language_info": {
      "codemirror_mode": {
        "name": "ipython",
        "version": 3
      },
      "file_extension": ".py",
      "mimetype": "text/x-python",
      "name": "python",
      "nbconvert_exporter": "python",
      "pygments_lexer": "ipython3",
      "version": "3.8.3"
    },
    "colab": {
      "name": "Datasets.ipynb",
      "provenance": []
    }
  },
  "cells": [
    {
      "cell_type": "code",
      "metadata": {
        "id": "CjT_q5JMoRuZ",
        "outputId": "ae7677bf-aa7b-4555-d6f7-8d0ddee0c022",
        "colab": {
          "base_uri": "https://localhost:8080/",
          "height": 442
        }
      },
      "source": [
        "import pandas as pd\n",
        "import seaborn as sb\n",
        "\n",
        "#df = pd.read_csv('forestfires.csv')\n",
        "df_portugal = pd.read_csv('data/Portugal_Dataset.csv')\n",
        "df_portugal\n",
        "#sb.heatmap(df.corr(), annot = True, fmt='.1g')\n"
      ],
      "execution_count": 1,
      "outputs": [
        {
          "output_type": "error",
          "ename": "FileNotFoundError",
          "evalue": "ignored",
          "traceback": [
            "\u001b[0;31m---------------------------------------------------------------------------\u001b[0m",
            "\u001b[0;31mFileNotFoundError\u001b[0m                         Traceback (most recent call last)",
            "\u001b[0;32m<ipython-input-1-19ec2c0b2138>\u001b[0m in \u001b[0;36m<module>\u001b[0;34m()\u001b[0m\n\u001b[1;32m      3\u001b[0m \u001b[0;34m\u001b[0m\u001b[0m\n\u001b[1;32m      4\u001b[0m \u001b[0;31m#df = pd.read_csv('forestfires.csv')\u001b[0m\u001b[0;34m\u001b[0m\u001b[0;34m\u001b[0m\u001b[0;34m\u001b[0m\u001b[0m\n\u001b[0;32m----> 5\u001b[0;31m \u001b[0mdf_portugal\u001b[0m \u001b[0;34m=\u001b[0m \u001b[0mpd\u001b[0m\u001b[0;34m.\u001b[0m\u001b[0mread_csv\u001b[0m\u001b[0;34m(\u001b[0m\u001b[0;34m'data/Portugal_Dataset.csv'\u001b[0m\u001b[0;34m)\u001b[0m\u001b[0;34m\u001b[0m\u001b[0;34m\u001b[0m\u001b[0m\n\u001b[0m\u001b[1;32m      6\u001b[0m \u001b[0mdf_portugal\u001b[0m\u001b[0;34m\u001b[0m\u001b[0;34m\u001b[0m\u001b[0m\n\u001b[1;32m      7\u001b[0m \u001b[0;31m#sb.heatmap(df.corr(), annot = True, fmt='.1g')\u001b[0m\u001b[0;34m\u001b[0m\u001b[0;34m\u001b[0m\u001b[0;34m\u001b[0m\u001b[0m\n",
            "\u001b[0;32m/usr/local/lib/python3.6/dist-packages/pandas/io/parsers.py\u001b[0m in \u001b[0;36mread_csv\u001b[0;34m(filepath_or_buffer, sep, delimiter, header, names, index_col, usecols, squeeze, prefix, mangle_dupe_cols, dtype, engine, converters, true_values, false_values, skipinitialspace, skiprows, skipfooter, nrows, na_values, keep_default_na, na_filter, verbose, skip_blank_lines, parse_dates, infer_datetime_format, keep_date_col, date_parser, dayfirst, cache_dates, iterator, chunksize, compression, thousands, decimal, lineterminator, quotechar, quoting, doublequote, escapechar, comment, encoding, dialect, error_bad_lines, warn_bad_lines, delim_whitespace, low_memory, memory_map, float_precision)\u001b[0m\n\u001b[1;32m    684\u001b[0m     )\n\u001b[1;32m    685\u001b[0m \u001b[0;34m\u001b[0m\u001b[0m\n\u001b[0;32m--> 686\u001b[0;31m     \u001b[0;32mreturn\u001b[0m \u001b[0m_read\u001b[0m\u001b[0;34m(\u001b[0m\u001b[0mfilepath_or_buffer\u001b[0m\u001b[0;34m,\u001b[0m \u001b[0mkwds\u001b[0m\u001b[0;34m)\u001b[0m\u001b[0;34m\u001b[0m\u001b[0;34m\u001b[0m\u001b[0m\n\u001b[0m\u001b[1;32m    687\u001b[0m \u001b[0;34m\u001b[0m\u001b[0m\n\u001b[1;32m    688\u001b[0m \u001b[0;34m\u001b[0m\u001b[0m\n",
            "\u001b[0;32m/usr/local/lib/python3.6/dist-packages/pandas/io/parsers.py\u001b[0m in \u001b[0;36m_read\u001b[0;34m(filepath_or_buffer, kwds)\u001b[0m\n\u001b[1;32m    450\u001b[0m \u001b[0;34m\u001b[0m\u001b[0m\n\u001b[1;32m    451\u001b[0m     \u001b[0;31m# Create the parser.\u001b[0m\u001b[0;34m\u001b[0m\u001b[0;34m\u001b[0m\u001b[0;34m\u001b[0m\u001b[0m\n\u001b[0;32m--> 452\u001b[0;31m     \u001b[0mparser\u001b[0m \u001b[0;34m=\u001b[0m \u001b[0mTextFileReader\u001b[0m\u001b[0;34m(\u001b[0m\u001b[0mfp_or_buf\u001b[0m\u001b[0;34m,\u001b[0m \u001b[0;34m**\u001b[0m\u001b[0mkwds\u001b[0m\u001b[0;34m)\u001b[0m\u001b[0;34m\u001b[0m\u001b[0;34m\u001b[0m\u001b[0m\n\u001b[0m\u001b[1;32m    453\u001b[0m \u001b[0;34m\u001b[0m\u001b[0m\n\u001b[1;32m    454\u001b[0m     \u001b[0;32mif\u001b[0m \u001b[0mchunksize\u001b[0m \u001b[0;32mor\u001b[0m \u001b[0miterator\u001b[0m\u001b[0;34m:\u001b[0m\u001b[0;34m\u001b[0m\u001b[0;34m\u001b[0m\u001b[0m\n",
            "\u001b[0;32m/usr/local/lib/python3.6/dist-packages/pandas/io/parsers.py\u001b[0m in \u001b[0;36m__init__\u001b[0;34m(self, f, engine, **kwds)\u001b[0m\n\u001b[1;32m    944\u001b[0m             \u001b[0mself\u001b[0m\u001b[0;34m.\u001b[0m\u001b[0moptions\u001b[0m\u001b[0;34m[\u001b[0m\u001b[0;34m\"has_index_names\"\u001b[0m\u001b[0;34m]\u001b[0m \u001b[0;34m=\u001b[0m \u001b[0mkwds\u001b[0m\u001b[0;34m[\u001b[0m\u001b[0;34m\"has_index_names\"\u001b[0m\u001b[0;34m]\u001b[0m\u001b[0;34m\u001b[0m\u001b[0;34m\u001b[0m\u001b[0m\n\u001b[1;32m    945\u001b[0m \u001b[0;34m\u001b[0m\u001b[0m\n\u001b[0;32m--> 946\u001b[0;31m         \u001b[0mself\u001b[0m\u001b[0;34m.\u001b[0m\u001b[0m_make_engine\u001b[0m\u001b[0;34m(\u001b[0m\u001b[0mself\u001b[0m\u001b[0;34m.\u001b[0m\u001b[0mengine\u001b[0m\u001b[0;34m)\u001b[0m\u001b[0;34m\u001b[0m\u001b[0;34m\u001b[0m\u001b[0m\n\u001b[0m\u001b[1;32m    947\u001b[0m \u001b[0;34m\u001b[0m\u001b[0m\n\u001b[1;32m    948\u001b[0m     \u001b[0;32mdef\u001b[0m \u001b[0mclose\u001b[0m\u001b[0;34m(\u001b[0m\u001b[0mself\u001b[0m\u001b[0;34m)\u001b[0m\u001b[0;34m:\u001b[0m\u001b[0;34m\u001b[0m\u001b[0;34m\u001b[0m\u001b[0m\n",
            "\u001b[0;32m/usr/local/lib/python3.6/dist-packages/pandas/io/parsers.py\u001b[0m in \u001b[0;36m_make_engine\u001b[0;34m(self, engine)\u001b[0m\n\u001b[1;32m   1176\u001b[0m     \u001b[0;32mdef\u001b[0m \u001b[0m_make_engine\u001b[0m\u001b[0;34m(\u001b[0m\u001b[0mself\u001b[0m\u001b[0;34m,\u001b[0m \u001b[0mengine\u001b[0m\u001b[0;34m=\u001b[0m\u001b[0;34m\"c\"\u001b[0m\u001b[0;34m)\u001b[0m\u001b[0;34m:\u001b[0m\u001b[0;34m\u001b[0m\u001b[0;34m\u001b[0m\u001b[0m\n\u001b[1;32m   1177\u001b[0m         \u001b[0;32mif\u001b[0m \u001b[0mengine\u001b[0m \u001b[0;34m==\u001b[0m \u001b[0;34m\"c\"\u001b[0m\u001b[0;34m:\u001b[0m\u001b[0;34m\u001b[0m\u001b[0;34m\u001b[0m\u001b[0m\n\u001b[0;32m-> 1178\u001b[0;31m             \u001b[0mself\u001b[0m\u001b[0;34m.\u001b[0m\u001b[0m_engine\u001b[0m \u001b[0;34m=\u001b[0m \u001b[0mCParserWrapper\u001b[0m\u001b[0;34m(\u001b[0m\u001b[0mself\u001b[0m\u001b[0;34m.\u001b[0m\u001b[0mf\u001b[0m\u001b[0;34m,\u001b[0m \u001b[0;34m**\u001b[0m\u001b[0mself\u001b[0m\u001b[0;34m.\u001b[0m\u001b[0moptions\u001b[0m\u001b[0;34m)\u001b[0m\u001b[0;34m\u001b[0m\u001b[0;34m\u001b[0m\u001b[0m\n\u001b[0m\u001b[1;32m   1179\u001b[0m         \u001b[0;32melse\u001b[0m\u001b[0;34m:\u001b[0m\u001b[0;34m\u001b[0m\u001b[0;34m\u001b[0m\u001b[0m\n\u001b[1;32m   1180\u001b[0m             \u001b[0;32mif\u001b[0m \u001b[0mengine\u001b[0m \u001b[0;34m==\u001b[0m \u001b[0;34m\"python\"\u001b[0m\u001b[0;34m:\u001b[0m\u001b[0;34m\u001b[0m\u001b[0;34m\u001b[0m\u001b[0m\n",
            "\u001b[0;32m/usr/local/lib/python3.6/dist-packages/pandas/io/parsers.py\u001b[0m in \u001b[0;36m__init__\u001b[0;34m(self, src, **kwds)\u001b[0m\n\u001b[1;32m   2006\u001b[0m         \u001b[0mkwds\u001b[0m\u001b[0;34m[\u001b[0m\u001b[0;34m\"usecols\"\u001b[0m\u001b[0;34m]\u001b[0m \u001b[0;34m=\u001b[0m \u001b[0mself\u001b[0m\u001b[0;34m.\u001b[0m\u001b[0musecols\u001b[0m\u001b[0;34m\u001b[0m\u001b[0;34m\u001b[0m\u001b[0m\n\u001b[1;32m   2007\u001b[0m \u001b[0;34m\u001b[0m\u001b[0m\n\u001b[0;32m-> 2008\u001b[0;31m         \u001b[0mself\u001b[0m\u001b[0;34m.\u001b[0m\u001b[0m_reader\u001b[0m \u001b[0;34m=\u001b[0m \u001b[0mparsers\u001b[0m\u001b[0;34m.\u001b[0m\u001b[0mTextReader\u001b[0m\u001b[0;34m(\u001b[0m\u001b[0msrc\u001b[0m\u001b[0;34m,\u001b[0m \u001b[0;34m**\u001b[0m\u001b[0mkwds\u001b[0m\u001b[0;34m)\u001b[0m\u001b[0;34m\u001b[0m\u001b[0;34m\u001b[0m\u001b[0m\n\u001b[0m\u001b[1;32m   2009\u001b[0m         \u001b[0mself\u001b[0m\u001b[0;34m.\u001b[0m\u001b[0munnamed_cols\u001b[0m \u001b[0;34m=\u001b[0m \u001b[0mself\u001b[0m\u001b[0;34m.\u001b[0m\u001b[0m_reader\u001b[0m\u001b[0;34m.\u001b[0m\u001b[0munnamed_cols\u001b[0m\u001b[0;34m\u001b[0m\u001b[0;34m\u001b[0m\u001b[0m\n\u001b[1;32m   2010\u001b[0m \u001b[0;34m\u001b[0m\u001b[0m\n",
            "\u001b[0;32mpandas/_libs/parsers.pyx\u001b[0m in \u001b[0;36mpandas._libs.parsers.TextReader.__cinit__\u001b[0;34m()\u001b[0m\n",
            "\u001b[0;32mpandas/_libs/parsers.pyx\u001b[0m in \u001b[0;36mpandas._libs.parsers.TextReader._setup_parser_source\u001b[0;34m()\u001b[0m\n",
            "\u001b[0;31mFileNotFoundError\u001b[0m: [Errno 2] No such file or directory: 'data/Portugal_Dataset.csv'"
          ]
        }
      ]
    },
    {
      "cell_type": "code",
      "metadata": {
        "scrolled": true,
        "id": "AsFeiqV7oRue"
      },
      "source": [
        "import pandas as pd\n",
        "import seaborn as sb\n",
        "\n",
        "df_cal_weather = pd.read_csv('data/California_Weather.csv' )\n",
        "\n",
        "#df_cal_weather"
      ],
      "execution_count": null,
      "outputs": []
    },
    {
      "cell_type": "code",
      "metadata": {
        "id": "7HGavHGPoRuh",
        "outputId": "b1726367-fdfe-46e9-945c-23ebb7d17fe8"
      },
      "source": [
        "# Remove irrelevant columns\n",
        "columns_to_keep_cal_weather = [\n",
        "    'Stn Name',\n",
        "    'CIMIS Region', \n",
        "    'Date', \n",
        "    'Precip (in)',\n",
        "    #'Max Air Temp (F)',\n",
        "    #'Min Air Temp (F)',\n",
        "    'Avg Air Temp (F)',\n",
        "    #'Max Rel Hum (%)',\n",
        "    #'Min Rel Hum (%)',\n",
        "    'Avg Rel Hum (%)',\n",
        "    'Avg Wind Speed (mph)',\n",
        "    'Wind Run (miles)'\n",
        "]\n",
        "\n",
        "df_cal_weather = df_cal_weather[columns_to_keep_cal_weather]\n",
        "df_cal_weather.shape"
      ],
      "execution_count": null,
      "outputs": [
        {
          "output_type": "execute_result",
          "data": {
            "text/plain": [
              "(128125, 8)"
            ]
          },
          "metadata": {
            "tags": []
          },
          "execution_count": 33
        }
      ]
    },
    {
      "cell_type": "code",
      "metadata": {
        "id": "gBJvlTQOoRuo",
        "outputId": "9f3131ed-4f2d-4d1b-bf00-240fe797331b"
      },
      "source": [
        "# Removing all missing data\n",
        "df_cal_weather = df_cal_weather.dropna()\n",
        "print(df_cal_weather.shape)"
      ],
      "execution_count": null,
      "outputs": [
        {
          "output_type": "stream",
          "text": [
            "(128125, 8)\n",
            "(128112, 8)\n"
          ],
          "name": "stdout"
        }
      ]
    },
    {
      "cell_type": "code",
      "metadata": {
        "id": "iS868ORCoRur",
        "outputId": "46224a04-940d-43aa-bac7-a4fa80d8297d"
      },
      "source": [
        "# Show updated dataset\n",
        "df_cal_weather\n",
        "df_cal_weather.to_csv('data/California_Weather_clean.csv')"
      ],
      "execution_count": null,
      "outputs": [
        {
          "output_type": "execute_result",
          "data": {
            "text/html": [
              "<div>\n",
              "<style scoped>\n",
              "    .dataframe tbody tr th:only-of-type {\n",
              "        vertical-align: middle;\n",
              "    }\n",
              "\n",
              "    .dataframe tbody tr th {\n",
              "        vertical-align: top;\n",
              "    }\n",
              "\n",
              "    .dataframe thead th {\n",
              "        text-align: right;\n",
              "    }\n",
              "</style>\n",
              "<table border=\"1\" class=\"dataframe\">\n",
              "  <thead>\n",
              "    <tr style=\"text-align: right;\">\n",
              "      <th></th>\n",
              "      <th>Stn Name</th>\n",
              "      <th>CIMIS Region</th>\n",
              "      <th>Date</th>\n",
              "      <th>Precip (in)</th>\n",
              "      <th>Avg Air Temp (F)</th>\n",
              "      <th>Avg Rel Hum (%)</th>\n",
              "      <th>Avg Wind Speed (mph)</th>\n",
              "      <th>Wind Run (miles)</th>\n",
              "    </tr>\n",
              "  </thead>\n",
              "  <tbody>\n",
              "    <tr>\n",
              "      <th>0</th>\n",
              "      <td>FivePoints</td>\n",
              "      <td>San Joaquin Valley</td>\n",
              "      <td>1/1/2018</td>\n",
              "      <td>0.00</td>\n",
              "      <td>47.8</td>\n",
              "      <td>65.0</td>\n",
              "      <td>3.3</td>\n",
              "      <td>78.3</td>\n",
              "    </tr>\n",
              "    <tr>\n",
              "      <th>1</th>\n",
              "      <td>FivePoints</td>\n",
              "      <td>San Joaquin Valley</td>\n",
              "      <td>1/2/2018</td>\n",
              "      <td>0.00</td>\n",
              "      <td>47.2</td>\n",
              "      <td>67.0</td>\n",
              "      <td>3.1</td>\n",
              "      <td>74.5</td>\n",
              "    </tr>\n",
              "    <tr>\n",
              "      <th>2</th>\n",
              "      <td>FivePoints</td>\n",
              "      <td>San Joaquin Valley</td>\n",
              "      <td>1/3/2018</td>\n",
              "      <td>0.00</td>\n",
              "      <td>49.9</td>\n",
              "      <td>68.0</td>\n",
              "      <td>4.5</td>\n",
              "      <td>107.5</td>\n",
              "    </tr>\n",
              "    <tr>\n",
              "      <th>3</th>\n",
              "      <td>FivePoints</td>\n",
              "      <td>San Joaquin Valley</td>\n",
              "      <td>1/4/2018</td>\n",
              "      <td>0.01</td>\n",
              "      <td>56.8</td>\n",
              "      <td>74.0</td>\n",
              "      <td>5.8</td>\n",
              "      <td>140.2</td>\n",
              "    </tr>\n",
              "    <tr>\n",
              "      <th>4</th>\n",
              "      <td>FivePoints</td>\n",
              "      <td>San Joaquin Valley</td>\n",
              "      <td>1/5/2018</td>\n",
              "      <td>0.00</td>\n",
              "      <td>59.8</td>\n",
              "      <td>72.0</td>\n",
              "      <td>4.2</td>\n",
              "      <td>101.4</td>\n",
              "    </tr>\n",
              "    <tr>\n",
              "      <th>...</th>\n",
              "      <td>...</td>\n",
              "      <td>...</td>\n",
              "      <td>...</td>\n",
              "      <td>...</td>\n",
              "      <td>...</td>\n",
              "      <td>...</td>\n",
              "      <td>...</td>\n",
              "      <td>...</td>\n",
              "    </tr>\n",
              "    <tr>\n",
              "      <th>128120</th>\n",
              "      <td>Linden</td>\n",
              "      <td>San Joaquin Valley</td>\n",
              "      <td>9/14/2020</td>\n",
              "      <td>0.00</td>\n",
              "      <td>66.3</td>\n",
              "      <td>70.0</td>\n",
              "      <td>3.4</td>\n",
              "      <td>81.7</td>\n",
              "    </tr>\n",
              "    <tr>\n",
              "      <th>128121</th>\n",
              "      <td>Linden</td>\n",
              "      <td>San Joaquin Valley</td>\n",
              "      <td>9/15/2020</td>\n",
              "      <td>0.00</td>\n",
              "      <td>66.0</td>\n",
              "      <td>69.0</td>\n",
              "      <td>2.7</td>\n",
              "      <td>64.2</td>\n",
              "    </tr>\n",
              "    <tr>\n",
              "      <th>128122</th>\n",
              "      <td>Linden</td>\n",
              "      <td>San Joaquin Valley</td>\n",
              "      <td>9/16/2020</td>\n",
              "      <td>0.00</td>\n",
              "      <td>68.0</td>\n",
              "      <td>69.0</td>\n",
              "      <td>3.3</td>\n",
              "      <td>78.2</td>\n",
              "    </tr>\n",
              "    <tr>\n",
              "      <th>128123</th>\n",
              "      <td>Linden</td>\n",
              "      <td>San Joaquin Valley</td>\n",
              "      <td>9/17/2020</td>\n",
              "      <td>0.00</td>\n",
              "      <td>70.4</td>\n",
              "      <td>65.0</td>\n",
              "      <td>3.3</td>\n",
              "      <td>78.1</td>\n",
              "    </tr>\n",
              "    <tr>\n",
              "      <th>128124</th>\n",
              "      <td>Linden</td>\n",
              "      <td>San Joaquin Valley</td>\n",
              "      <td>9/18/2020</td>\n",
              "      <td>0.00</td>\n",
              "      <td>68.4</td>\n",
              "      <td>68.0</td>\n",
              "      <td>4.0</td>\n",
              "      <td>96.7</td>\n",
              "    </tr>\n",
              "  </tbody>\n",
              "</table>\n",
              "<p>128112 rows × 8 columns</p>\n",
              "</div>"
            ],
            "text/plain": [
              "          Stn Name        CIMIS Region       Date  Precip (in)  \\\n",
              "0       FivePoints  San Joaquin Valley   1/1/2018         0.00   \n",
              "1       FivePoints  San Joaquin Valley   1/2/2018         0.00   \n",
              "2       FivePoints  San Joaquin Valley   1/3/2018         0.00   \n",
              "3       FivePoints  San Joaquin Valley   1/4/2018         0.01   \n",
              "4       FivePoints  San Joaquin Valley   1/5/2018         0.00   \n",
              "...            ...                 ...        ...          ...   \n",
              "128120      Linden  San Joaquin Valley  9/14/2020         0.00   \n",
              "128121      Linden  San Joaquin Valley  9/15/2020         0.00   \n",
              "128122      Linden  San Joaquin Valley  9/16/2020         0.00   \n",
              "128123      Linden  San Joaquin Valley  9/17/2020         0.00   \n",
              "128124      Linden  San Joaquin Valley  9/18/2020         0.00   \n",
              "\n",
              "        Avg Air Temp (F)  Avg Rel Hum (%)  Avg Wind Speed (mph)  \\\n",
              "0                   47.8             65.0                   3.3   \n",
              "1                   47.2             67.0                   3.1   \n",
              "2                   49.9             68.0                   4.5   \n",
              "3                   56.8             74.0                   5.8   \n",
              "4                   59.8             72.0                   4.2   \n",
              "...                  ...              ...                   ...   \n",
              "128120              66.3             70.0                   3.4   \n",
              "128121              66.0             69.0                   2.7   \n",
              "128122              68.0             69.0                   3.3   \n",
              "128123              70.4             65.0                   3.3   \n",
              "128124              68.4             68.0                   4.0   \n",
              "\n",
              "        Wind Run (miles)  \n",
              "0                   78.3  \n",
              "1                   74.5  \n",
              "2                  107.5  \n",
              "3                  140.2  \n",
              "4                  101.4  \n",
              "...                  ...  \n",
              "128120              81.7  \n",
              "128121              64.2  \n",
              "128122              78.2  \n",
              "128123              78.1  \n",
              "128124              96.7  \n",
              "\n",
              "[128112 rows x 8 columns]"
            ]
          },
          "metadata": {
            "tags": []
          },
          "execution_count": 35
        }
      ]
    },
    {
      "cell_type": "code",
      "metadata": {
        "id": "adfkSFypoRuu"
      },
      "source": [
        "import pandas as pd\n",
        "import seaborn as sb\n",
        "\n",
        "df_cal_fire = pd.read_csv('data/California_Fire_Incidents.csv')\n",
        "#df_cal_fire\n"
      ],
      "execution_count": null,
      "outputs": []
    },
    {
      "cell_type": "code",
      "metadata": {
        "id": "ltPxEb2HoRu1",
        "outputId": "d0fea090-a50f-4e00-a6bd-a40a159fd529"
      },
      "source": [
        "# Remove irrelevant columns\n",
        "columns_to_keep_cal_fire = [\n",
        "    'AcresBurned',\n",
        "    'ArchiveYear',\n",
        "    'CalFireIncident',\n",
        "    'Counties', \n",
        "    'Extinguished',\n",
        "    'Location', \n",
        "    'MajorIncident', \n",
        "    'Started'\n",
        "]\n",
        "\n",
        "df_cal_fire = df_cal_fire[columns_to_keep_cal_fire]\n",
        "df_cal_fire.shape"
      ],
      "execution_count": null,
      "outputs": [
        {
          "output_type": "execute_result",
          "data": {
            "text/plain": [
              "(1636, 8)"
            ]
          },
          "metadata": {
            "tags": []
          },
          "execution_count": 37
        }
      ]
    },
    {
      "cell_type": "code",
      "metadata": {
        "id": "khFY-vqEoRu4",
        "outputId": "9ad6f842-c934-4394-854e-82918fa00444"
      },
      "source": [
        "# Removing all missing data\n",
        "df_cal_fire = df_cal_fire.dropna()\n",
        "print(df_cal_fire.shape)"
      ],
      "execution_count": null,
      "outputs": [
        {
          "output_type": "stream",
          "text": [
            "(1636, 8)\n",
            "(1577, 8)\n"
          ],
          "name": "stdout"
        }
      ]
    },
    {
      "cell_type": "code",
      "metadata": {
        "id": "aZH7oDyroRu7",
        "outputId": "a2dbcc91-2cb7-407b-d9bb-ee35779d073d"
      },
      "source": [
        "# Show updated dataset\n",
        "df_cal_fire\n",
        "df_cal_fire.to_csv('data/California_Fire_Incidents_clean.csv')"
      ],
      "execution_count": null,
      "outputs": [
        {
          "output_type": "execute_result",
          "data": {
            "text/html": [
              "<div>\n",
              "<style scoped>\n",
              "    .dataframe tbody tr th:only-of-type {\n",
              "        vertical-align: middle;\n",
              "    }\n",
              "\n",
              "    .dataframe tbody tr th {\n",
              "        vertical-align: top;\n",
              "    }\n",
              "\n",
              "    .dataframe thead th {\n",
              "        text-align: right;\n",
              "    }\n",
              "</style>\n",
              "<table border=\"1\" class=\"dataframe\">\n",
              "  <thead>\n",
              "    <tr style=\"text-align: right;\">\n",
              "      <th></th>\n",
              "      <th>AcresBurned</th>\n",
              "      <th>ArchiveYear</th>\n",
              "      <th>CalFireIncident</th>\n",
              "      <th>Counties</th>\n",
              "      <th>Extinguished</th>\n",
              "      <th>Location</th>\n",
              "      <th>MajorIncident</th>\n",
              "      <th>Started</th>\n",
              "    </tr>\n",
              "  </thead>\n",
              "  <tbody>\n",
              "    <tr>\n",
              "      <th>0</th>\n",
              "      <td>257314.0</td>\n",
              "      <td>2013</td>\n",
              "      <td>True</td>\n",
              "      <td>Tuolumne</td>\n",
              "      <td>2013-09-06T18:30:00Z</td>\n",
              "      <td>3 miles east of Groveland along Hwy 120</td>\n",
              "      <td>False</td>\n",
              "      <td>2013-08-17T15:25:00Z</td>\n",
              "    </tr>\n",
              "    <tr>\n",
              "      <th>1</th>\n",
              "      <td>30274.0</td>\n",
              "      <td>2013</td>\n",
              "      <td>True</td>\n",
              "      <td>Los Angeles</td>\n",
              "      <td>2013-06-08T18:30:00Z</td>\n",
              "      <td>Angeles National Forest</td>\n",
              "      <td>False</td>\n",
              "      <td>2013-05-30T15:28:00Z</td>\n",
              "    </tr>\n",
              "    <tr>\n",
              "      <th>2</th>\n",
              "      <td>27531.0</td>\n",
              "      <td>2013</td>\n",
              "      <td>True</td>\n",
              "      <td>Riverside</td>\n",
              "      <td>2013-07-30T18:00:00Z</td>\n",
              "      <td>Hwy 243 &amp; Hwy 74 near Mountain Center</td>\n",
              "      <td>False</td>\n",
              "      <td>2013-07-15T13:43:00Z</td>\n",
              "    </tr>\n",
              "    <tr>\n",
              "      <th>3</th>\n",
              "      <td>27440.0</td>\n",
              "      <td>2013</td>\n",
              "      <td>False</td>\n",
              "      <td>Placer</td>\n",
              "      <td>2013-08-30T08:00:00Z</td>\n",
              "      <td>Deadwood Ridge, northeast of Foresthill</td>\n",
              "      <td>False</td>\n",
              "      <td>2013-08-10T16:30:00Z</td>\n",
              "    </tr>\n",
              "    <tr>\n",
              "      <th>4</th>\n",
              "      <td>24251.0</td>\n",
              "      <td>2013</td>\n",
              "      <td>True</td>\n",
              "      <td>Ventura</td>\n",
              "      <td>2013-05-11T06:30:00Z</td>\n",
              "      <td>Southbound Highway 101 at Camarillo Springs Ro...</td>\n",
              "      <td>True</td>\n",
              "      <td>2013-05-02T07:01:00Z</td>\n",
              "    </tr>\n",
              "    <tr>\n",
              "      <th>...</th>\n",
              "      <td>...</td>\n",
              "      <td>...</td>\n",
              "      <td>...</td>\n",
              "      <td>...</td>\n",
              "      <td>...</td>\n",
              "      <td>...</td>\n",
              "      <td>...</td>\n",
              "      <td>...</td>\n",
              "    </tr>\n",
              "    <tr>\n",
              "      <th>1627</th>\n",
              "      <td>10.0</td>\n",
              "      <td>2019</td>\n",
              "      <td>True</td>\n",
              "      <td>Riverside</td>\n",
              "      <td>2019-09-10T10:45:00Z</td>\n",
              "      <td>Bailey Road and Terwilliger Road in Anza</td>\n",
              "      <td>False</td>\n",
              "      <td>2019-09-10T10:43:58Z</td>\n",
              "    </tr>\n",
              "    <tr>\n",
              "      <th>1629</th>\n",
              "      <td>10.0</td>\n",
              "      <td>2019</td>\n",
              "      <td>True</td>\n",
              "      <td>Siskiyou</td>\n",
              "      <td>2019-06-21T14:23:00Z</td>\n",
              "      <td>Deer Run Road, east of Iron Gate Reservoir</td>\n",
              "      <td>False</td>\n",
              "      <td>2019-06-16T20:33:00Z</td>\n",
              "    </tr>\n",
              "    <tr>\n",
              "      <th>1630</th>\n",
              "      <td>10.0</td>\n",
              "      <td>2019</td>\n",
              "      <td>True</td>\n",
              "      <td>Butte</td>\n",
              "      <td>2019-05-08T08:47:00Z</td>\n",
              "      <td>Off Hamilton Nord Cana Hwy &amp; Cana Hwy, northea...</td>\n",
              "      <td>False</td>\n",
              "      <td>2019-04-30T12:20:00Z</td>\n",
              "    </tr>\n",
              "    <tr>\n",
              "      <th>1631</th>\n",
              "      <td>9.0</td>\n",
              "      <td>2019</td>\n",
              "      <td>True</td>\n",
              "      <td>Riverside</td>\n",
              "      <td>2019-10-10T18:11:00Z</td>\n",
              "      <td>Eagle Canyon Rd. and Cajalco Rd., southwest of...</td>\n",
              "      <td>False</td>\n",
              "      <td>2019-10-10T12:08:00Z</td>\n",
              "    </tr>\n",
              "    <tr>\n",
              "      <th>1632</th>\n",
              "      <td>2.0</td>\n",
              "      <td>2019</td>\n",
              "      <td>True</td>\n",
              "      <td>Nevada</td>\n",
              "      <td>2019-06-28T17:33:00Z</td>\n",
              "      <td>Off of  Long Point Road and Old Mill Road, Sou...</td>\n",
              "      <td>False</td>\n",
              "      <td>2019-06-28T15:03:04Z</td>\n",
              "    </tr>\n",
              "  </tbody>\n",
              "</table>\n",
              "<p>1577 rows × 8 columns</p>\n",
              "</div>"
            ],
            "text/plain": [
              "      AcresBurned  ArchiveYear  CalFireIncident     Counties  \\\n",
              "0        257314.0         2013             True     Tuolumne   \n",
              "1         30274.0         2013             True  Los Angeles   \n",
              "2         27531.0         2013             True    Riverside   \n",
              "3         27440.0         2013            False       Placer   \n",
              "4         24251.0         2013             True      Ventura   \n",
              "...           ...          ...              ...          ...   \n",
              "1627         10.0         2019             True    Riverside   \n",
              "1629         10.0         2019             True     Siskiyou   \n",
              "1630         10.0         2019             True        Butte   \n",
              "1631          9.0         2019             True    Riverside   \n",
              "1632          2.0         2019             True       Nevada   \n",
              "\n",
              "              Extinguished                                           Location  \\\n",
              "0     2013-09-06T18:30:00Z            3 miles east of Groveland along Hwy 120   \n",
              "1     2013-06-08T18:30:00Z                            Angeles National Forest   \n",
              "2     2013-07-30T18:00:00Z              Hwy 243 & Hwy 74 near Mountain Center   \n",
              "3     2013-08-30T08:00:00Z            Deadwood Ridge, northeast of Foresthill   \n",
              "4     2013-05-11T06:30:00Z  Southbound Highway 101 at Camarillo Springs Ro...   \n",
              "...                    ...                                                ...   \n",
              "1627  2019-09-10T10:45:00Z           Bailey Road and Terwilliger Road in Anza   \n",
              "1629  2019-06-21T14:23:00Z         Deer Run Road, east of Iron Gate Reservoir   \n",
              "1630  2019-05-08T08:47:00Z  Off Hamilton Nord Cana Hwy & Cana Hwy, northea...   \n",
              "1631  2019-10-10T18:11:00Z  Eagle Canyon Rd. and Cajalco Rd., southwest of...   \n",
              "1632  2019-06-28T17:33:00Z  Off of  Long Point Road and Old Mill Road, Sou...   \n",
              "\n",
              "      MajorIncident               Started  \n",
              "0             False  2013-08-17T15:25:00Z  \n",
              "1             False  2013-05-30T15:28:00Z  \n",
              "2             False  2013-07-15T13:43:00Z  \n",
              "3             False  2013-08-10T16:30:00Z  \n",
              "4              True  2013-05-02T07:01:00Z  \n",
              "...             ...                   ...  \n",
              "1627          False  2019-09-10T10:43:58Z  \n",
              "1629          False  2019-06-16T20:33:00Z  \n",
              "1630          False  2019-04-30T12:20:00Z  \n",
              "1631          False  2019-10-10T12:08:00Z  \n",
              "1632          False  2019-06-28T15:03:04Z  \n",
              "\n",
              "[1577 rows x 8 columns]"
            ]
          },
          "metadata": {
            "tags": []
          },
          "execution_count": 39
        }
      ]
    },
    {
      "cell_type": "code",
      "metadata": {
        "id": "eN4npYmKoRu-"
      },
      "source": [
        ""
      ],
      "execution_count": null,
      "outputs": []
    }
  ]
}