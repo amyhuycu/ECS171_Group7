{
 "cells": [
  {
   "cell_type": "code",
   "execution_count": 294,
   "metadata": {},
   "outputs": [
    {
     "data": {
      "text/html": [
       "<div>\n",
       "<style scoped>\n",
       "    .dataframe tbody tr th:only-of-type {\n",
       "        vertical-align: middle;\n",
       "    }\n",
       "\n",
       "    .dataframe tbody tr th {\n",
       "        vertical-align: top;\n",
       "    }\n",
       "\n",
       "    .dataframe thead th {\n",
       "        text-align: right;\n",
       "    }\n",
       "</style>\n",
       "<table border=\"1\" class=\"dataframe\">\n",
       "  <thead>\n",
       "    <tr style=\"text-align: right;\">\n",
       "      <th></th>\n",
       "      <th>X</th>\n",
       "      <th>Y</th>\n",
       "      <th>month</th>\n",
       "      <th>day</th>\n",
       "      <th>FFMC</th>\n",
       "      <th>DMC</th>\n",
       "      <th>DC</th>\n",
       "      <th>ISI</th>\n",
       "      <th>temp</th>\n",
       "      <th>RH</th>\n",
       "      <th>wind</th>\n",
       "      <th>rain</th>\n",
       "      <th>area</th>\n",
       "    </tr>\n",
       "  </thead>\n",
       "  <tbody>\n",
       "    <tr>\n",
       "      <th>0</th>\n",
       "      <td>7</td>\n",
       "      <td>5</td>\n",
       "      <td>mar</td>\n",
       "      <td>fri</td>\n",
       "      <td>86.2</td>\n",
       "      <td>26.2</td>\n",
       "      <td>94.3</td>\n",
       "      <td>5.1</td>\n",
       "      <td>8.2</td>\n",
       "      <td>51</td>\n",
       "      <td>6.7</td>\n",
       "      <td>0.0</td>\n",
       "      <td>0.00</td>\n",
       "    </tr>\n",
       "    <tr>\n",
       "      <th>1</th>\n",
       "      <td>7</td>\n",
       "      <td>4</td>\n",
       "      <td>oct</td>\n",
       "      <td>tue</td>\n",
       "      <td>90.6</td>\n",
       "      <td>35.4</td>\n",
       "      <td>669.1</td>\n",
       "      <td>6.7</td>\n",
       "      <td>18.0</td>\n",
       "      <td>33</td>\n",
       "      <td>0.9</td>\n",
       "      <td>0.0</td>\n",
       "      <td>0.00</td>\n",
       "    </tr>\n",
       "    <tr>\n",
       "      <th>2</th>\n",
       "      <td>7</td>\n",
       "      <td>4</td>\n",
       "      <td>oct</td>\n",
       "      <td>sat</td>\n",
       "      <td>90.6</td>\n",
       "      <td>43.7</td>\n",
       "      <td>686.9</td>\n",
       "      <td>6.7</td>\n",
       "      <td>14.6</td>\n",
       "      <td>33</td>\n",
       "      <td>1.3</td>\n",
       "      <td>0.0</td>\n",
       "      <td>0.00</td>\n",
       "    </tr>\n",
       "    <tr>\n",
       "      <th>3</th>\n",
       "      <td>8</td>\n",
       "      <td>6</td>\n",
       "      <td>mar</td>\n",
       "      <td>fri</td>\n",
       "      <td>91.7</td>\n",
       "      <td>33.3</td>\n",
       "      <td>77.5</td>\n",
       "      <td>9.0</td>\n",
       "      <td>8.3</td>\n",
       "      <td>97</td>\n",
       "      <td>4.0</td>\n",
       "      <td>0.2</td>\n",
       "      <td>0.00</td>\n",
       "    </tr>\n",
       "    <tr>\n",
       "      <th>4</th>\n",
       "      <td>8</td>\n",
       "      <td>6</td>\n",
       "      <td>mar</td>\n",
       "      <td>sun</td>\n",
       "      <td>89.3</td>\n",
       "      <td>51.3</td>\n",
       "      <td>102.2</td>\n",
       "      <td>9.6</td>\n",
       "      <td>11.4</td>\n",
       "      <td>99</td>\n",
       "      <td>1.8</td>\n",
       "      <td>0.0</td>\n",
       "      <td>0.00</td>\n",
       "    </tr>\n",
       "    <tr>\n",
       "      <th>...</th>\n",
       "      <td>...</td>\n",
       "      <td>...</td>\n",
       "      <td>...</td>\n",
       "      <td>...</td>\n",
       "      <td>...</td>\n",
       "      <td>...</td>\n",
       "      <td>...</td>\n",
       "      <td>...</td>\n",
       "      <td>...</td>\n",
       "      <td>...</td>\n",
       "      <td>...</td>\n",
       "      <td>...</td>\n",
       "      <td>...</td>\n",
       "    </tr>\n",
       "    <tr>\n",
       "      <th>512</th>\n",
       "      <td>4</td>\n",
       "      <td>3</td>\n",
       "      <td>aug</td>\n",
       "      <td>sun</td>\n",
       "      <td>81.6</td>\n",
       "      <td>56.7</td>\n",
       "      <td>665.6</td>\n",
       "      <td>1.9</td>\n",
       "      <td>27.8</td>\n",
       "      <td>32</td>\n",
       "      <td>2.7</td>\n",
       "      <td>0.0</td>\n",
       "      <td>6.44</td>\n",
       "    </tr>\n",
       "    <tr>\n",
       "      <th>513</th>\n",
       "      <td>2</td>\n",
       "      <td>4</td>\n",
       "      <td>aug</td>\n",
       "      <td>sun</td>\n",
       "      <td>81.6</td>\n",
       "      <td>56.7</td>\n",
       "      <td>665.6</td>\n",
       "      <td>1.9</td>\n",
       "      <td>21.9</td>\n",
       "      <td>71</td>\n",
       "      <td>5.8</td>\n",
       "      <td>0.0</td>\n",
       "      <td>54.29</td>\n",
       "    </tr>\n",
       "    <tr>\n",
       "      <th>514</th>\n",
       "      <td>7</td>\n",
       "      <td>4</td>\n",
       "      <td>aug</td>\n",
       "      <td>sun</td>\n",
       "      <td>81.6</td>\n",
       "      <td>56.7</td>\n",
       "      <td>665.6</td>\n",
       "      <td>1.9</td>\n",
       "      <td>21.2</td>\n",
       "      <td>70</td>\n",
       "      <td>6.7</td>\n",
       "      <td>0.0</td>\n",
       "      <td>11.16</td>\n",
       "    </tr>\n",
       "    <tr>\n",
       "      <th>515</th>\n",
       "      <td>1</td>\n",
       "      <td>4</td>\n",
       "      <td>aug</td>\n",
       "      <td>sat</td>\n",
       "      <td>94.4</td>\n",
       "      <td>146.0</td>\n",
       "      <td>614.7</td>\n",
       "      <td>11.3</td>\n",
       "      <td>25.6</td>\n",
       "      <td>42</td>\n",
       "      <td>4.0</td>\n",
       "      <td>0.0</td>\n",
       "      <td>0.00</td>\n",
       "    </tr>\n",
       "    <tr>\n",
       "      <th>516</th>\n",
       "      <td>6</td>\n",
       "      <td>3</td>\n",
       "      <td>nov</td>\n",
       "      <td>tue</td>\n",
       "      <td>79.5</td>\n",
       "      <td>3.0</td>\n",
       "      <td>106.7</td>\n",
       "      <td>1.1</td>\n",
       "      <td>11.8</td>\n",
       "      <td>31</td>\n",
       "      <td>4.5</td>\n",
       "      <td>0.0</td>\n",
       "      <td>0.00</td>\n",
       "    </tr>\n",
       "  </tbody>\n",
       "</table>\n",
       "<p>517 rows × 13 columns</p>\n",
       "</div>"
      ],
      "text/plain": [
       "     X  Y month  day  FFMC    DMC     DC   ISI  temp  RH  wind  rain   area\n",
       "0    7  5   mar  fri  86.2   26.2   94.3   5.1   8.2  51   6.7   0.0   0.00\n",
       "1    7  4   oct  tue  90.6   35.4  669.1   6.7  18.0  33   0.9   0.0   0.00\n",
       "2    7  4   oct  sat  90.6   43.7  686.9   6.7  14.6  33   1.3   0.0   0.00\n",
       "3    8  6   mar  fri  91.7   33.3   77.5   9.0   8.3  97   4.0   0.2   0.00\n",
       "4    8  6   mar  sun  89.3   51.3  102.2   9.6  11.4  99   1.8   0.0   0.00\n",
       "..  .. ..   ...  ...   ...    ...    ...   ...   ...  ..   ...   ...    ...\n",
       "512  4  3   aug  sun  81.6   56.7  665.6   1.9  27.8  32   2.7   0.0   6.44\n",
       "513  2  4   aug  sun  81.6   56.7  665.6   1.9  21.9  71   5.8   0.0  54.29\n",
       "514  7  4   aug  sun  81.6   56.7  665.6   1.9  21.2  70   6.7   0.0  11.16\n",
       "515  1  4   aug  sat  94.4  146.0  614.7  11.3  25.6  42   4.0   0.0   0.00\n",
       "516  6  3   nov  tue  79.5    3.0  106.7   1.1  11.8  31   4.5   0.0   0.00\n",
       "\n",
       "[517 rows x 13 columns]"
      ]
     },
     "execution_count": 294,
     "metadata": {},
     "output_type": "execute_result"
    }
   ],
   "source": [
    "import pandas as pd\n",
    "import seaborn as sb\n",
    "import math\n",
    "from sklearn.preprocessing import OneHotEncoder\n",
    "import numpy as np\n",
    "from sklearn.preprocessing import MinMaxScaler\n",
    "from sklearn.preprocessing import StandardScaler\n",
    "\n",
    "df = pd.read_csv('../data/Portugal_Dataset.csv')\n",
    "df"
   ]
  },
  {
   "cell_type": "markdown",
   "metadata": {},
   "source": [
    "# Functions:"
   ]
  },
  {
   "cell_type": "code",
   "execution_count": 295,
   "metadata": {},
   "outputs": [],
   "source": [
    "def remove_outliers(df):\n",
    "    df = df[df['FFMC'] != 18.7]\n",
    "    df = df[df['ISI'] != 56.1]\n",
    "    df = df[df['rain'] != 6.4]\n",
    "    df = df[df['area'] != 746.28]\n",
    "    df = df[df['area'] != 1090.84]\n",
    "    return df"
   ]
  },
  {
   "cell_type": "code",
   "execution_count": 296,
   "metadata": {},
   "outputs": [],
   "source": [
    "# https://stackoverflow.com/questions/34782063/how-to-use-pandas-filter-with-iqr\n",
    "# https://stats.stackexchange.com/questions/798/calculating-optimal-number-of-bins-in-a-histogram\n",
    "def histexploration(feature):\n",
    "    min_val = df[feature].min()\n",
    "    max_val = df[feature].max()\n",
    "    Q1 = df[feature].quantile(0.25)\n",
    "    Q3 = df[feature].quantile(0.75)\n",
    "    IQR = Q3 - Q1\n",
    "    n_term = len(df[feature])**(0.33)\n",
    "    binwidth = 2 * IQR / n_term\n",
    "    if binwidth == 0:\n",
    "        binwidth = 0.1\n",
    "    n_bins = (max_val - min_val) / binwidth\n",
    "    n_bins = math.ceil(n_bins)\n",
    "    df[feature].hist(bins=n_bins)"
   ]
  },
  {
   "cell_type": "code",
   "execution_count": 297,
   "metadata": {},
   "outputs": [],
   "source": [
    "def month_to_season(df):\n",
    "    df.loc[(df['month'] == 'jan'), 'season'] = 'winter'\n",
    "    df.loc[(df['month'] == 'feb'), 'season'] = 'winter'\n",
    "    df.loc[(df['month'] == 'mar'), 'season'] = 'spring'\n",
    "    df.loc[(df['month'] == 'apr'), 'season'] = 'spring'\n",
    "    df.loc[(df['month'] == 'may'), 'season'] = 'spring'\n",
    "    df.loc[(df['month'] == 'jun'), 'season'] = 'summer'\n",
    "    df.loc[(df['month'] == 'jul'), 'season'] = 'summer'\n",
    "    df.loc[(df['month'] == 'aug'), 'season'] = 'summer'\n",
    "    df.loc[(df['month'] == 'sep'), 'season'] = 'fall'\n",
    "    df.loc[(df['month'] == 'oct'), 'season'] = 'fall'\n",
    "    df.loc[(df['month'] == 'nov'), 'season'] = 'fall'\n",
    "    df.loc[(df['month'] == 'dec'), 'season'] = 'winter'\n",
    "    df = df.drop(['month'], 1)\n",
    "    return df"
   ]
  },
  {
   "cell_type": "code",
   "execution_count": 298,
   "metadata": {},
   "outputs": [],
   "source": [
    "def day_to_timeframe(df):\n",
    "    df.loc[(df['day'] == 'mon'), 'timeframe'] = 'weekday'\n",
    "    df.loc[(df['day'] == 'tue'), 'timeframe'] = 'weekday'\n",
    "    df.loc[(df['day'] == 'wed'), 'timeframe'] = 'weekday'\n",
    "    df.loc[(df['day'] == 'thu'), 'timeframe'] = 'weekday'\n",
    "    df.loc[(df['day'] == 'fri'), 'timeframe'] = 'weekday'\n",
    "    df.loc[(df['day'] == 'sat'), 'timeframe'] = 'weekend'\n",
    "    df.loc[(df['day'] == 'sun'), 'timeframe'] = 'weekend'\n",
    "    df = df.drop(['day'], 1)\n",
    "    return df"
   ]
  },
  {
   "cell_type": "code",
   "execution_count": 299,
   "metadata": {},
   "outputs": [],
   "source": [
    "def encode_month_or_season(df):\n",
    "    if 'month' in df.columns:\n",
    "        enc_df = pd.get_dummies(df['month'])\n",
    "        df = pd.merge(df, enc_df, right_index=True, left_index=True)\n",
    "        df = df.drop(['month'], 1)\n",
    "        \n",
    "    elif 'season' in df.columns:\n",
    "        enc_df = pd.get_dummies(df['season'])\n",
    "        df = pd.merge(df, enc_df, right_index=True, left_index=True)\n",
    "        df = df.drop(['season'], 1)\n",
    "        \n",
    "    return df"
   ]
  },
  {
   "cell_type": "code",
   "execution_count": 300,
   "metadata": {},
   "outputs": [],
   "source": [
    "def encode_day_or_timeframe(df):\n",
    "    if 'day' in df.columns:\n",
    "        enc_df = pd.get_dummies(df['day'])\n",
    "        df = pd.merge(df, enc_df, right_index=True, left_index=True)\n",
    "        df = df.drop(['day'], 1)\n",
    "        \n",
    "    elif 'timeframe' in df.columns:\n",
    "        enc_df = pd.get_dummies(df['timeframe'])\n",
    "        df = pd.merge(df, enc_df, right_index=True, left_index=True)\n",
    "        df = df.drop(['timeframe'], 1)\n",
    "        \n",
    "    return df"
   ]
  },
  {
   "cell_type": "code",
   "execution_count": 301,
   "metadata": {},
   "outputs": [],
   "source": [
    "# all values between 0 and 1\n",
    "def normalize_data(df):\n",
    "    numeric_cols = df.select_dtypes(include=np.number).columns.tolist()\n",
    "    numeric_cols.remove('area')\n",
    "    minmax = MinMaxScaler()\n",
    "    df[numeric_cols] = minmax.fit_transform(df[numeric_cols])\n",
    "    return df"
   ]
  },
  {
   "cell_type": "code",
   "execution_count": 302,
   "metadata": {},
   "outputs": [],
   "source": [
    "# mean value is 0, standard deviation is 1\n",
    "def standardize_data(df):\n",
    "    numeric_cols = df.select_dtypes(include=np.number).columns.tolist()\n",
    "    numeric_cols.remove('area')\n",
    "    scaler = StandardScaler()\n",
    "    df[numeric_cols] = scaler.fit_transform(df[numeric_cols])\n",
    "    return df"
   ]
  },
  {
   "cell_type": "markdown",
   "metadata": {},
   "source": [
    "# EDA:"
   ]
  },
  {
   "cell_type": "code",
   "execution_count": 303,
   "metadata": {},
   "outputs": [
    {
     "data": {
      "image/png": "[encoded data removed]",
      "text/plain": [
       "<Figure size 432x288 with 1 Axes>"
      ]
     },
     "metadata": {
      "needs_background": "light"
     },
     "output_type": "display_data"
    }
   ],
   "source": [
    "histexploration('X')"
   ]
  },
  {
   "cell_type": "code",
   "execution_count": 304,
   "metadata": {},
   "outputs": [
    {
     "data": {
      "image/png": "[encoded data removed]",
      "text/plain": [
       "<Figure size 432x288 with 1 Axes>"
      ]
     },
     "metadata": {
      "needs_background": "light"
     },
     "output_type": "display_data"
    }
   ],
   "source": [
    "histexploration('Y')"
   ]
  },
  {
   "cell_type": "code",
   "execution_count": 305,
   "metadata": {},
   "outputs": [
    {
     "data": {
      "image/png": "[encoded data removed]",
      "text/plain": [
       "<Figure size 432x288 with 1 Axes>"
      ]
     },
     "metadata": {
      "needs_background": "light"
     },
     "output_type": "display_data"
    }
   ],
   "source": [
    "histexploration('FFMC')"
   ]
  },
  {
   "cell_type": "code",
   "execution_count": 306,
   "metadata": {},
   "outputs": [
    {
     "data": {
      "image/png": "[encoded data removed]",
      "text/plain": [
       "<Figure size 432x288 with 1 Axes>"
      ]
     },
     "metadata": {
      "needs_background": "light"
     },
     "output_type": "display_data"
    }
   ],
   "source": [
    "histexploration('DMC')"
   ]
  },
  {
   "cell_type": "code",
   "execution_count": 307,
   "metadata": {},
   "outputs": [
    {
     "data": {
      "image/png": "[encoded data removed]",
      "text/plain": [
       "<Figure size 432x288 with 1 Axes>"
      ]
     },
     "metadata": {
      "needs_background": "light"
     },
     "output_type": "display_data"
    }
   ],
   "source": [
    "histexploration('ISI')"
   ]
  },
  {
   "cell_type": "code",
   "execution_count": 308,
   "metadata": {},
   "outputs": [
    {
     "data": {
      "image/png": "[encoded data removed]",
      "text/plain": [
       "<Figure size 432x288 with 1 Axes>"
      ]
     },
     "metadata": {
      "needs_background": "light"
     },
     "output_type": "display_data"
    }
   ],
   "source": [
    "histexploration('temp')"
   ]
  },
  {
   "cell_type": "code",
   "execution_count": 309,
   "metadata": {},
   "outputs": [
    {
     "data": {
      "image/png": "[encoded data removed]",
      "text/plain": [
       "<Figure size 432x288 with 1 Axes>"
      ]
     },
     "metadata": {
      "needs_background": "light"
     },
     "output_type": "display_data"
    }
   ],
   "source": [
    "histexploration('RH')"
   ]
  },
  {
   "cell_type": "code",
   "execution_count": 310,
   "metadata": {},
   "outputs": [
    {
     "data": {
      "image/png": "[encoded data removed]",
      "text/plain": [
       "<Figure size 432x288 with 1 Axes>"
      ]
     },
     "metadata": {
      "needs_background": "light"
     },
     "output_type": "display_data"
    }
   ],
   "source": [
    "histexploration('wind')"
   ]
  },
  {
   "cell_type": "code",
   "execution_count": 311,
   "metadata": {},
   "outputs": [
    {
     "data": {
      "image/png": "[encoded data removed]",
      "text/plain": [
       "<Figure size 432x288 with 1 Axes>"
      ]
     },
     "metadata": {
      "needs_background": "light"
     },
     "output_type": "display_data"
    }
   ],
   "source": [
    "histexploration('rain')"
   ]
  },
  {
   "cell_type": "code",
   "execution_count": 312,
   "metadata": {},
   "outputs": [
    {
     "data": {
      "image/png": "[encoded data removed]",
      "text/plain": [
       "<Figure size 432x288 with 1 Axes>"
      ]
     },
     "metadata": {
      "needs_background": "light"
     },
     "output_type": "display_data"
    }
   ],
   "source": [
    "histexploration('area')"
   ]
  },
  {
   "cell_type": "markdown",
   "metadata": {},
   "source": [
    "It looks like there is  \n",
    "a really low value for FFMC,  \n",
    "a really high value for ISI,  \n",
    "a really high value for rain,  \n",
    "and 1-2 really high values for area.\n",
    "\n",
    "Let's remove those samples."
   ]
  },
  {
   "cell_type": "markdown",
   "metadata": {},
   "source": [
    "**Ideas for preprocessing:**\n",
    "- remove outliers **check**\n",
    "- convert month into season (dec/jan/feb = winter, mar/april/may = spring, etc.) **check**\n",
    "- convert day into weekday/weekend (mon/tue/wed/thu/fri = 0, sat/sun = 1) **check**\n",
    "- drop some columns (either before training or trying out different combinations during training)\n",
    "- encode month/day **check**\n",
    "- standardize/normalize columns **check**"
   ]
  },
  {
   "cell_type": "code",
   "execution_count": 313,
   "metadata": {},
   "outputs": [
    {
     "data": {
      "text/html": [
       "<div>\n",
       "<style scoped>\n",
       "    .dataframe tbody tr th:only-of-type {\n",
       "        vertical-align: middle;\n",
       "    }\n",
       "\n",
       "    .dataframe tbody tr th {\n",
       "        vertical-align: top;\n",
       "    }\n",
       "\n",
       "    .dataframe thead th {\n",
       "        text-align: right;\n",
       "    }\n",
       "</style>\n",
       "<table border=\"1\" class=\"dataframe\">\n",
       "  <thead>\n",
       "    <tr style=\"text-align: right;\">\n",
       "      <th></th>\n",
       "      <th>X</th>\n",
       "      <th>Y</th>\n",
       "      <th>FFMC</th>\n",
       "      <th>DMC</th>\n",
       "      <th>DC</th>\n",
       "      <th>ISI</th>\n",
       "      <th>temp</th>\n",
       "      <th>RH</th>\n",
       "      <th>wind</th>\n",
       "      <th>rain</th>\n",
       "      <th>area</th>\n",
       "      <th>fall</th>\n",
       "      <th>spring</th>\n",
       "      <th>summer</th>\n",
       "      <th>winter</th>\n",
       "      <th>weekday</th>\n",
       "      <th>weekend</th>\n",
       "    </tr>\n",
       "  </thead>\n",
       "  <tbody>\n",
       "    <tr>\n",
       "      <th>0</th>\n",
       "      <td>0.750</td>\n",
       "      <td>0.428571</td>\n",
       "      <td>0.781659</td>\n",
       "      <td>0.082381</td>\n",
       "      <td>0.101325</td>\n",
       "      <td>0.210762</td>\n",
       "      <td>0.192926</td>\n",
       "      <td>0.428571</td>\n",
       "      <td>0.700000</td>\n",
       "      <td>0.000000</td>\n",
       "      <td>0.00</td>\n",
       "      <td>0.0</td>\n",
       "      <td>1.0</td>\n",
       "      <td>0.0</td>\n",
       "      <td>0.0</td>\n",
       "      <td>1.0</td>\n",
       "      <td>0.0</td>\n",
       "    </tr>\n",
       "    <tr>\n",
       "      <th>1</th>\n",
       "      <td>0.750</td>\n",
       "      <td>0.285714</td>\n",
       "      <td>0.877729</td>\n",
       "      <td>0.114226</td>\n",
       "      <td>0.775419</td>\n",
       "      <td>0.282511</td>\n",
       "      <td>0.508039</td>\n",
       "      <td>0.214286</td>\n",
       "      <td>0.055556</td>\n",
       "      <td>0.000000</td>\n",
       "      <td>0.00</td>\n",
       "      <td>1.0</td>\n",
       "      <td>0.0</td>\n",
       "      <td>0.0</td>\n",
       "      <td>0.0</td>\n",
       "      <td>1.0</td>\n",
       "      <td>0.0</td>\n",
       "    </tr>\n",
       "    <tr>\n",
       "      <th>2</th>\n",
       "      <td>0.750</td>\n",
       "      <td>0.285714</td>\n",
       "      <td>0.877729</td>\n",
       "      <td>0.142956</td>\n",
       "      <td>0.796294</td>\n",
       "      <td>0.282511</td>\n",
       "      <td>0.398714</td>\n",
       "      <td>0.214286</td>\n",
       "      <td>0.100000</td>\n",
       "      <td>0.000000</td>\n",
       "      <td>0.00</td>\n",
       "      <td>1.0</td>\n",
       "      <td>0.0</td>\n",
       "      <td>0.0</td>\n",
       "      <td>0.0</td>\n",
       "      <td>0.0</td>\n",
       "      <td>1.0</td>\n",
       "    </tr>\n",
       "    <tr>\n",
       "      <th>3</th>\n",
       "      <td>0.875</td>\n",
       "      <td>0.571429</td>\n",
       "      <td>0.901747</td>\n",
       "      <td>0.106957</td>\n",
       "      <td>0.081623</td>\n",
       "      <td>0.385650</td>\n",
       "      <td>0.196141</td>\n",
       "      <td>0.976190</td>\n",
       "      <td>0.400000</td>\n",
       "      <td>0.142857</td>\n",
       "      <td>0.00</td>\n",
       "      <td>0.0</td>\n",
       "      <td>1.0</td>\n",
       "      <td>0.0</td>\n",
       "      <td>0.0</td>\n",
       "      <td>1.0</td>\n",
       "      <td>0.0</td>\n",
       "    </tr>\n",
       "    <tr>\n",
       "      <th>4</th>\n",
       "      <td>0.875</td>\n",
       "      <td>0.571429</td>\n",
       "      <td>0.849345</td>\n",
       "      <td>0.169263</td>\n",
       "      <td>0.110590</td>\n",
       "      <td>0.412556</td>\n",
       "      <td>0.295820</td>\n",
       "      <td>1.000000</td>\n",
       "      <td>0.155556</td>\n",
       "      <td>0.000000</td>\n",
       "      <td>0.00</td>\n",
       "      <td>0.0</td>\n",
       "      <td>1.0</td>\n",
       "      <td>0.0</td>\n",
       "      <td>0.0</td>\n",
       "      <td>0.0</td>\n",
       "      <td>1.0</td>\n",
       "    </tr>\n",
       "    <tr>\n",
       "      <th>...</th>\n",
       "      <td>...</td>\n",
       "      <td>...</td>\n",
       "      <td>...</td>\n",
       "      <td>...</td>\n",
       "      <td>...</td>\n",
       "      <td>...</td>\n",
       "      <td>...</td>\n",
       "      <td>...</td>\n",
       "      <td>...</td>\n",
       "      <td>...</td>\n",
       "      <td>...</td>\n",
       "      <td>...</td>\n",
       "      <td>...</td>\n",
       "      <td>...</td>\n",
       "      <td>...</td>\n",
       "      <td>...</td>\n",
       "      <td>...</td>\n",
       "    </tr>\n",
       "    <tr>\n",
       "      <th>512</th>\n",
       "      <td>0.375</td>\n",
       "      <td>0.142857</td>\n",
       "      <td>0.681223</td>\n",
       "      <td>0.187954</td>\n",
       "      <td>0.771315</td>\n",
       "      <td>0.067265</td>\n",
       "      <td>0.823151</td>\n",
       "      <td>0.202381</td>\n",
       "      <td>0.255556</td>\n",
       "      <td>0.000000</td>\n",
       "      <td>6.44</td>\n",
       "      <td>0.0</td>\n",
       "      <td>0.0</td>\n",
       "      <td>1.0</td>\n",
       "      <td>0.0</td>\n",
       "      <td>0.0</td>\n",
       "      <td>1.0</td>\n",
       "    </tr>\n",
       "    <tr>\n",
       "      <th>513</th>\n",
       "      <td>0.125</td>\n",
       "      <td>0.285714</td>\n",
       "      <td>0.681223</td>\n",
       "      <td>0.187954</td>\n",
       "      <td>0.771315</td>\n",
       "      <td>0.067265</td>\n",
       "      <td>0.633441</td>\n",
       "      <td>0.666667</td>\n",
       "      <td>0.600000</td>\n",
       "      <td>0.000000</td>\n",
       "      <td>54.29</td>\n",
       "      <td>0.0</td>\n",
       "      <td>0.0</td>\n",
       "      <td>1.0</td>\n",
       "      <td>0.0</td>\n",
       "      <td>0.0</td>\n",
       "      <td>1.0</td>\n",
       "    </tr>\n",
       "    <tr>\n",
       "      <th>514</th>\n",
       "      <td>0.750</td>\n",
       "      <td>0.285714</td>\n",
       "      <td>0.681223</td>\n",
       "      <td>0.187954</td>\n",
       "      <td>0.771315</td>\n",
       "      <td>0.067265</td>\n",
       "      <td>0.610932</td>\n",
       "      <td>0.654762</td>\n",
       "      <td>0.700000</td>\n",
       "      <td>0.000000</td>\n",
       "      <td>11.16</td>\n",
       "      <td>0.0</td>\n",
       "      <td>0.0</td>\n",
       "      <td>1.0</td>\n",
       "      <td>0.0</td>\n",
       "      <td>0.0</td>\n",
       "      <td>1.0</td>\n",
       "    </tr>\n",
       "    <tr>\n",
       "      <th>515</th>\n",
       "      <td>0.000</td>\n",
       "      <td>0.285714</td>\n",
       "      <td>0.960699</td>\n",
       "      <td>0.497058</td>\n",
       "      <td>0.711622</td>\n",
       "      <td>0.488789</td>\n",
       "      <td>0.752412</td>\n",
       "      <td>0.321429</td>\n",
       "      <td>0.400000</td>\n",
       "      <td>0.000000</td>\n",
       "      <td>0.00</td>\n",
       "      <td>0.0</td>\n",
       "      <td>0.0</td>\n",
       "      <td>1.0</td>\n",
       "      <td>0.0</td>\n",
       "      <td>0.0</td>\n",
       "      <td>1.0</td>\n",
       "    </tr>\n",
       "    <tr>\n",
       "      <th>516</th>\n",
       "      <td>0.625</td>\n",
       "      <td>0.142857</td>\n",
       "      <td>0.635371</td>\n",
       "      <td>0.002077</td>\n",
       "      <td>0.115867</td>\n",
       "      <td>0.031390</td>\n",
       "      <td>0.308682</td>\n",
       "      <td>0.190476</td>\n",
       "      <td>0.455556</td>\n",
       "      <td>0.000000</td>\n",
       "      <td>0.00</td>\n",
       "      <td>1.0</td>\n",
       "      <td>0.0</td>\n",
       "      <td>0.0</td>\n",
       "      <td>0.0</td>\n",
       "      <td>1.0</td>\n",
       "      <td>0.0</td>\n",
       "    </tr>\n",
       "  </tbody>\n",
       "</table>\n",
       "<p>512 rows × 17 columns</p>\n",
       "</div>"
      ],
      "text/plain": [
       "         X         Y      FFMC       DMC        DC       ISI      temp  \\\n",
       "0    0.750  0.428571  0.781659  0.082381  0.101325  0.210762  0.192926   \n",
       "1    0.750  0.285714  0.877729  0.114226  0.775419  0.282511  0.508039   \n",
       "2    0.750  0.285714  0.877729  0.142956  0.796294  0.282511  0.398714   \n",
       "3    0.875  0.571429  0.901747  0.106957  0.081623  0.385650  0.196141   \n",
       "4    0.875  0.571429  0.849345  0.169263  0.110590  0.412556  0.295820   \n",
       "..     ...       ...       ...       ...       ...       ...       ...   \n",
       "512  0.375  0.142857  0.681223  0.187954  0.771315  0.067265  0.823151   \n",
       "513  0.125  0.285714  0.681223  0.187954  0.771315  0.067265  0.633441   \n",
       "514  0.750  0.285714  0.681223  0.187954  0.771315  0.067265  0.610932   \n",
       "515  0.000  0.285714  0.960699  0.497058  0.711622  0.488789  0.752412   \n",
       "516  0.625  0.142857  0.635371  0.002077  0.115867  0.031390  0.308682   \n",
       "\n",
       "           RH      wind      rain   area  fall  spring  summer  winter  \\\n",
       "0    0.428571  0.700000  0.000000   0.00   0.0     1.0     0.0     0.0   \n",
       "1    0.214286  0.055556  0.000000   0.00   1.0     0.0     0.0     0.0   \n",
       "2    0.214286  0.100000  0.000000   0.00   1.0     0.0     0.0     0.0   \n",
       "3    0.976190  0.400000  0.142857   0.00   0.0     1.0     0.0     0.0   \n",
       "4    1.000000  0.155556  0.000000   0.00   0.0     1.0     0.0     0.0   \n",
       "..        ...       ...       ...    ...   ...     ...     ...     ...   \n",
       "512  0.202381  0.255556  0.000000   6.44   0.0     0.0     1.0     0.0   \n",
       "513  0.666667  0.600000  0.000000  54.29   0.0     0.0     1.0     0.0   \n",
       "514  0.654762  0.700000  0.000000  11.16   0.0     0.0     1.0     0.0   \n",
       "515  0.321429  0.400000  0.000000   0.00   0.0     0.0     1.0     0.0   \n",
       "516  0.190476  0.455556  0.000000   0.00   1.0     0.0     0.0     0.0   \n",
       "\n",
       "     weekday  weekend  \n",
       "0        1.0      0.0  \n",
       "1        1.0      0.0  \n",
       "2        0.0      1.0  \n",
       "3        1.0      0.0  \n",
       "4        0.0      1.0  \n",
       "..       ...      ...  \n",
       "512      0.0      1.0  \n",
       "513      0.0      1.0  \n",
       "514      0.0      1.0  \n",
       "515      0.0      1.0  \n",
       "516      1.0      0.0  \n",
       "\n",
       "[512 rows x 17 columns]"
      ]
     },
     "execution_count": 313,
     "metadata": {},
     "output_type": "execute_result"
    }
   ],
   "source": [
    "# remove outliers\n",
    "df = remove_outliers(df)\n",
    "\n",
    "# preprocess month/day\n",
    "df = month_to_season(df)\n",
    "df = day_to_timeframe(df)\n",
    "\n",
    "# one hot encode string values\n",
    "df = encode_month_or_season(df)\n",
    "df = encode_day_or_timeframe(df)\n",
    "\n",
    "# normalize/standardize data (choose 1 or none)\n",
    "df = normalize_data(df)\n",
    "#df = standardize_data(df)\n",
    "\n",
    "# print df\n",
    "df"
   ]
  }
 ],
 "metadata": {
  "kernelspec": {
   "display_name": "Python 3",
   "language": "python",
   "name": "python3"
  },
  "language_info": {
   "codemirror_mode": {
    "name": "ipython",
    "version": 3
   },
   "file_extension": ".py",
   "mimetype": "text/x-python",
   "name": "python",
   "nbconvert_exporter": "python",
   "pygments_lexer": "ipython3",
   "version": "3.8.3"
  }
 },
 "nbformat": 4,
 "nbformat_minor": 4
}
